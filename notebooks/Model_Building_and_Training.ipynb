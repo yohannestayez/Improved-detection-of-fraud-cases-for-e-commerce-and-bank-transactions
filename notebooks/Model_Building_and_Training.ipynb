{
 "cells": [
  {
   "cell_type": "code",
   "execution_count": 2,
   "metadata": {},
   "outputs": [],
   "source": [
    "# Import necessary PyTorch libraries\n",
    "import torch\n",
    "import torch.nn as nn\n",
    "import torch.optim as optim\n",
    "from torch.utils.data import DataLoader, TensorDataset\n",
    "import pandas as pd\n",
    "from sklearn.model_selection import train_test_split\n",
    "from sklearn.preprocessing import StandardScaler\n",
    "import mlflow\n",
    "from sklearn.metrics import accuracy_score"
   ]
  },
  {
   "cell_type": "code",
   "execution_count": 3,
   "metadata": {},
   "outputs": [
    {
     "data": {
      "text/html": [
       "<div>\n",
       "<style scoped>\n",
       "    .dataframe tbody tr th:only-of-type {\n",
       "        vertical-align: middle;\n",
       "    }\n",
       "\n",
       "    .dataframe tbody tr th {\n",
       "        vertical-align: top;\n",
       "    }\n",
       "\n",
       "    .dataframe thead th {\n",
       "        text-align: right;\n",
       "    }\n",
       "</style>\n",
       "<table border=\"1\" class=\"dataframe\">\n",
       "  <thead>\n",
       "    <tr style=\"text-align: right;\">\n",
       "      <th></th>\n",
       "      <th>purchase_value</th>\n",
       "      <th>sex</th>\n",
       "      <th>age</th>\n",
       "      <th>class</th>\n",
       "      <th>transaction_count</th>\n",
       "      <th>hour_of_day</th>\n",
       "      <th>day_of_week</th>\n",
       "      <th>purchase_value_scaled</th>\n",
       "      <th>source_Direct</th>\n",
       "      <th>source_SEO</th>\n",
       "      <th>...</th>\n",
       "      <th>country_United States</th>\n",
       "      <th>country_Uruguay</th>\n",
       "      <th>country_Uzbekistan</th>\n",
       "      <th>country_Vanuatu</th>\n",
       "      <th>country_Venezuela</th>\n",
       "      <th>country_Viet Nam</th>\n",
       "      <th>country_Virgin Islands (U.S.)</th>\n",
       "      <th>country_Yemen</th>\n",
       "      <th>country_Zambia</th>\n",
       "      <th>country_Zimbabwe</th>\n",
       "    </tr>\n",
       "  </thead>\n",
       "  <tbody>\n",
       "    <tr>\n",
       "      <th>0</th>\n",
       "      <td>47.0</td>\n",
       "      <td>0</td>\n",
       "      <td>30.0</td>\n",
       "      <td>0.0</td>\n",
       "      <td>1</td>\n",
       "      <td>3</td>\n",
       "      <td>6</td>\n",
       "      <td>0.549607</td>\n",
       "      <td>False</td>\n",
       "      <td>True</td>\n",
       "      <td>...</td>\n",
       "      <td>False</td>\n",
       "      <td>False</td>\n",
       "      <td>False</td>\n",
       "      <td>False</td>\n",
       "      <td>False</td>\n",
       "      <td>False</td>\n",
       "      <td>False</td>\n",
       "      <td>False</td>\n",
       "      <td>False</td>\n",
       "      <td>False</td>\n",
       "    </tr>\n",
       "    <tr>\n",
       "      <th>1</th>\n",
       "      <td>15.0</td>\n",
       "      <td>0</td>\n",
       "      <td>34.0</td>\n",
       "      <td>0.0</td>\n",
       "      <td>1</td>\n",
       "      <td>20</td>\n",
       "      <td>2</td>\n",
       "      <td>-1.197335</td>\n",
       "      <td>False</td>\n",
       "      <td>True</td>\n",
       "      <td>...</td>\n",
       "      <td>False</td>\n",
       "      <td>False</td>\n",
       "      <td>False</td>\n",
       "      <td>False</td>\n",
       "      <td>False</td>\n",
       "      <td>False</td>\n",
       "      <td>False</td>\n",
       "      <td>False</td>\n",
       "      <td>False</td>\n",
       "      <td>False</td>\n",
       "    </tr>\n",
       "    <tr>\n",
       "      <th>2</th>\n",
       "      <td>44.0</td>\n",
       "      <td>1</td>\n",
       "      <td>29.0</td>\n",
       "      <td>0.0</td>\n",
       "      <td>1</td>\n",
       "      <td>23</td>\n",
       "      <td>5</td>\n",
       "      <td>0.385831</td>\n",
       "      <td>False</td>\n",
       "      <td>False</td>\n",
       "      <td>...</td>\n",
       "      <td>False</td>\n",
       "      <td>False</td>\n",
       "      <td>False</td>\n",
       "      <td>False</td>\n",
       "      <td>False</td>\n",
       "      <td>False</td>\n",
       "      <td>False</td>\n",
       "      <td>False</td>\n",
       "      <td>False</td>\n",
       "      <td>False</td>\n",
       "    </tr>\n",
       "    <tr>\n",
       "      <th>3</th>\n",
       "      <td>55.0</td>\n",
       "      <td>0</td>\n",
       "      <td>30.0</td>\n",
       "      <td>0.0</td>\n",
       "      <td>1</td>\n",
       "      <td>16</td>\n",
       "      <td>5</td>\n",
       "      <td>0.986342</td>\n",
       "      <td>True</td>\n",
       "      <td>False</td>\n",
       "      <td>...</td>\n",
       "      <td>False</td>\n",
       "      <td>False</td>\n",
       "      <td>False</td>\n",
       "      <td>False</td>\n",
       "      <td>False</td>\n",
       "      <td>False</td>\n",
       "      <td>False</td>\n",
       "      <td>False</td>\n",
       "      <td>False</td>\n",
       "      <td>False</td>\n",
       "    </tr>\n",
       "    <tr>\n",
       "      <th>4</th>\n",
       "      <td>51.0</td>\n",
       "      <td>0</td>\n",
       "      <td>37.0</td>\n",
       "      <td>0.0</td>\n",
       "      <td>1</td>\n",
       "      <td>4</td>\n",
       "      <td>1</td>\n",
       "      <td>0.767974</td>\n",
       "      <td>False</td>\n",
       "      <td>True</td>\n",
       "      <td>...</td>\n",
       "      <td>False</td>\n",
       "      <td>False</td>\n",
       "      <td>False</td>\n",
       "      <td>False</td>\n",
       "      <td>False</td>\n",
       "      <td>False</td>\n",
       "      <td>False</td>\n",
       "      <td>False</td>\n",
       "      <td>False</td>\n",
       "      <td>False</td>\n",
       "    </tr>\n",
       "  </tbody>\n",
       "</table>\n",
       "<p>5 rows × 194 columns</p>\n",
       "</div>"
      ],
      "text/plain": [
       "   purchase_value  sex   age  class  transaction_count  hour_of_day  \\\n",
       "0            47.0    0  30.0    0.0                  1            3   \n",
       "1            15.0    0  34.0    0.0                  1           20   \n",
       "2            44.0    1  29.0    0.0                  1           23   \n",
       "3            55.0    0  30.0    0.0                  1           16   \n",
       "4            51.0    0  37.0    0.0                  1            4   \n",
       "\n",
       "   day_of_week  purchase_value_scaled  source_Direct  source_SEO  ...  \\\n",
       "0            6               0.549607          False        True  ...   \n",
       "1            2              -1.197335          False        True  ...   \n",
       "2            5               0.385831          False       False  ...   \n",
       "3            5               0.986342           True       False  ...   \n",
       "4            1               0.767974          False        True  ...   \n",
       "\n",
       "   country_United States  country_Uruguay  country_Uzbekistan  \\\n",
       "0                  False            False               False   \n",
       "1                  False            False               False   \n",
       "2                  False            False               False   \n",
       "3                  False            False               False   \n",
       "4                  False            False               False   \n",
       "\n",
       "   country_Vanuatu  country_Venezuela  country_Viet Nam  \\\n",
       "0            False              False             False   \n",
       "1            False              False             False   \n",
       "2            False              False             False   \n",
       "3            False              False             False   \n",
       "4            False              False             False   \n",
       "\n",
       "   country_Virgin Islands (U.S.)  country_Yemen  country_Zambia  \\\n",
       "0                          False          False           False   \n",
       "1                          False          False           False   \n",
       "2                          False          False           False   \n",
       "3                          False          False           False   \n",
       "4                          False          False           False   \n",
       "\n",
       "   country_Zimbabwe  \n",
       "0             False  \n",
       "1             False  \n",
       "2             False  \n",
       "3             False  \n",
       "4             False  \n",
       "\n",
       "[5 rows x 194 columns]"
      ]
     },
     "metadata": {},
     "output_type": "display_data"
    }
   ],
   "source": [
    "# Load the cleaned datasets (from Task 1)\n",
    "fraud_data = pd.read_csv('C:/Users/Administrator/Documents/kifiya/Week_8/clean_data/merged_data.csv')\n",
    "creditcard_data = pd.read_csv('C:/Users/Administrator/Documents/kifiya/Week_8/clean_data/Preprocessed_Creditcard_Data.csv')\n",
    "\n",
    "# dropping unessasary columns for training\n",
    "fraud_data = fraud_data.drop(columns=['signup_time', 'purchase_time','user_id','device_id',\n",
    "                                      'ip_address', 'lower_bound_ip_address', 'upper_bound_ip_address'], errors='ignore')\n",
    "\n",
    "display(fraud_data.head())"
   ]
  },
  {
   "cell_type": "code",
   "execution_count": 4,
   "metadata": {},
   "outputs": [],
   "source": [
    "# Separate features and targets for Fraud_Data\n",
    "X_fraud = fraud_data.drop(columns=['class'])  # Feature set\n",
    "y_fraud = fraud_data['class']  # Target\n",
    "\n",
    "# Separate features and targets for CreditCard Data\n",
    "X_credit = creditcard_data.drop(columns=['Class'])  # Feature set\n",
    "y_credit = creditcard_data['Class']  # Target\n",
    "\n",
    "# Train-Test Split for both datasets\n",
    "X_fraud_train, X_fraud_test, y_fraud_train, y_fraud_test = train_test_split(X_fraud, y_fraud, test_size=0.2, random_state=42)\n",
    "X_credit_train, X_credit_test, y_credit_train, y_credit_test = train_test_split(X_credit, y_credit, test_size=0.2, random_state=42)\n",
    "\n",
    "# Normalize the data (Standard Scaling)\n",
    "scaler = StandardScaler()\n",
    "X_fraud_train = scaler.fit_transform(X_fraud_train)\n",
    "X_fraud_test = scaler.transform(X_fraud_test)\n",
    "X_credit_train = scaler.fit_transform(X_credit_train)\n",
    "X_credit_test = scaler.transform(X_credit_test)\n",
    "\n",
    "# Convert the datasets into PyTorch tensors\n",
    "X_fraud_train_tensor = torch.tensor(X_fraud_train, dtype=torch.float32)\n",
    "y_fraud_train_tensor = torch.tensor(y_fraud_train.values, dtype=torch.float32)\n",
    "X_fraud_test_tensor = torch.tensor(X_fraud_test, dtype=torch.float32)\n",
    "y_fraud_test_tensor = torch.tensor(y_fraud_test.values, dtype=torch.float32)\n",
    "\n",
    "X_credit_train_tensor = torch.tensor(X_credit_train, dtype=torch.float32)\n",
    "y_credit_train_tensor = torch.tensor(y_credit_train.values, dtype=torch.float32)\n",
    "X_credit_test_tensor = torch.tensor(X_credit_test, dtype=torch.float32)\n",
    "y_credit_test_tensor = torch.tensor(y_credit_test.values, dtype=torch.float32)\n",
    "\n",
    "# DataLoader for batching\n",
    "batch_size = 8\n",
    "train_loader_fraud = torch.utils.data.DataLoader(torch.utils.data.TensorDataset(X_fraud_train_tensor, y_fraud_train_tensor), batch_size=batch_size, shuffle=True)\n",
    "test_loader_fraud = torch.utils.data.DataLoader(torch.utils.data.TensorDataset(X_fraud_test_tensor, y_fraud_test_tensor), batch_size=batch_size)\n",
    "\n",
    "train_loader_credit = torch.utils.data.DataLoader(torch.utils.data.TensorDataset(X_credit_train_tensor, y_credit_train_tensor), batch_size=batch_size, shuffle=True)\n",
    "test_loader_credit = torch.utils.data.DataLoader(torch.utils.data.TensorDataset(X_credit_test_tensor, y_credit_test_tensor), batch_size=batch_size)\n"
   ]
  },
  {
   "cell_type": "markdown",
   "metadata": {},
   "source": [
    "## 2. Model Selection - Using PyTorch"
   ]
  },
  {
   "cell_type": "markdown",
   "metadata": {},
   "source": [
    "#### function to train models"
   ]
  },
  {
   "cell_type": "code",
   "execution_count": 5,
   "metadata": {},
   "outputs": [],
   "source": [
    "def train_model(model, train_loader, optimizer, criterion, num_epochs=10):\n",
    "    model.train()\n",
    "    for epoch in range(num_epochs):\n",
    "        total_loss = 0\n",
    "        for X_batch, y_batch in train_loader:\n",
    "            optimizer.zero_grad()  # Clear gradients\n",
    "            y_pred = model(X_batch).squeeze()  # Forward pass\n",
    "            loss = criterion(y_pred, y_batch)  # Compute loss\n",
    "            loss.backward()  # Backward pass (gradient computation)\n",
    "            optimizer.step()  # Update weights\n",
    "            total_loss += loss.item()\n",
    "        print(f'Epoch [{epoch+1}/{num_epochs}], Loss: {total_loss/len(train_loader):.4f}')"
   ]
  },
  {
   "cell_type": "markdown",
   "metadata": {},
   "source": [
    "#### Multi-Layer Perceptron (MLP)"
   ]
  },
  {
   "cell_type": "code",
   "execution_count": 6,
   "metadata": {},
   "outputs": [],
   "source": [
    "class MLPModel(nn.Module):\n",
    "    def __init__(self, input_size):\n",
    "        super(MLPModel, self).__init__()\n",
    "        self.fc1 = nn.Linear(input_size, 64)\n",
    "        self.fc2 = nn.Linear(64, 32)\n",
    "        self.fc3 = nn.Linear(32, 1)\n",
    "\n",
    "    def forward(self, x):\n",
    "        x = torch.relu(self.fc1(x))\n",
    "        x = torch.relu(self.fc2(x))\n",
    "        x = torch.sigmoid(self.fc3(x))\n",
    "        return x\n",
    "\n",
    "# Initialize MLP models for both fraud and credit datasets\n",
    "mlp_model_fraud = MLPModel(X_fraud_train.shape[1])\n",
    "mlp_model_credit = MLPModel(X_credit_train.shape[1])\n",
    "\n",
    "# Loss function and optimizer\n",
    "criterion = nn.BCELoss()\n",
    "optimizer_fraud = torch.optim.Adam(mlp_model_fraud.parameters(), lr=0.001)\n",
    "optimizer_credit = torch.optim.Adam(mlp_model_credit.parameters(), lr=0.001)"
   ]
  },
  {
   "cell_type": "code",
   "execution_count": 7,
   "metadata": {},
   "outputs": [
    {
     "name": "stdout",
     "output_type": "stream",
     "text": [
      "Epoch [1/10], Loss: 0.3175\n",
      "Epoch [2/10], Loss: 0.3131\n",
      "Epoch [3/10], Loss: 0.3109\n",
      "Epoch [4/10], Loss: 0.3083\n",
      "Epoch [5/10], Loss: 0.3055\n",
      "Epoch [6/10], Loss: 0.3026\n",
      "Epoch [7/10], Loss: 0.2995\n",
      "Epoch [8/10], Loss: 0.2964\n",
      "Epoch [9/10], Loss: 0.2935\n",
      "Epoch [10/10], Loss: 0.2905\n"
     ]
    }
   ],
   "source": [
    "# Train the MLP model on Fraud Data\n",
    "train_model(mlp_model_fraud, train_loader_fraud, optimizer_fraud, criterion)"
   ]
  },
  {
   "cell_type": "code",
   "execution_count": 8,
   "metadata": {},
   "outputs": [
    {
     "name": "stdout",
     "output_type": "stream",
     "text": [
      "Epoch [1/10], Loss: 0.0054\n",
      "Epoch [2/10], Loss: 0.0032\n",
      "Epoch [3/10], Loss: 0.0030\n",
      "Epoch [4/10], Loss: 0.0027\n",
      "Epoch [5/10], Loss: 0.0028\n",
      "Epoch [6/10], Loss: 0.0026\n",
      "Epoch [7/10], Loss: 0.0026\n",
      "Epoch [8/10], Loss: 0.0024\n",
      "Epoch [9/10], Loss: 0.0024\n",
      "Epoch [10/10], Loss: 0.0024\n"
     ]
    }
   ],
   "source": [
    "# Train the MLP model on Credit Card Data\n",
    "train_model(mlp_model_credit, train_loader_credit, optimizer_credit, criterion)"
   ]
  },
  {
   "cell_type": "markdown",
   "metadata": {},
   "source": [
    "#### Convolutional Neural Network (CNN)"
   ]
  },
  {
   "cell_type": "code",
   "execution_count": 9,
   "metadata": {},
   "outputs": [],
   "source": [
    "class CNNModel(nn.Module):\n",
    "    def __init__(self, input_size):\n",
    "        super(CNNModel, self).__init__()\n",
    "        self.conv1 = nn.Conv1d(1, 64, kernel_size=3)\n",
    "        self.fc1 = nn.Linear(64 * (input_size - 2), 32)\n",
    "        self.fc2 = nn.Linear(32, 1)\n",
    "\n",
    "    def forward(self, x):\n",
    "        x = x.unsqueeze(1)  # Add channel dimension for Conv1D\n",
    "        x = torch.relu(self.conv1(x))\n",
    "        x = x.view(x.size(0), -1)  # Flatten\n",
    "        x = torch.relu(self.fc1(x))\n",
    "        x = torch.sigmoid(self.fc2(x))\n",
    "        return x\n",
    "\n",
    "# Initialize CNN models\n",
    "cnn_model_fraud = CNNModel(X_fraud_train.shape[1])\n",
    "cnn_model_credit = CNNModel(X_credit_train.shape[1])\n",
    "\n",
    "# Optimizers for CNN models\n",
    "optimizer_cnn_fraud = torch.optim.Adam(cnn_model_fraud.parameters(), lr=0.001)\n",
    "optimizer_cnn_credit = torch.optim.Adam(cnn_model_credit.parameters(), lr=0.001)"
   ]
  },
  {
   "cell_type": "code",
   "execution_count": null,
   "metadata": {},
   "outputs": [
    {
     "name": "stdout",
     "output_type": "stream",
     "text": [
      "Epoch [1/10], Loss: 0.3178\n",
      "Epoch [2/10], Loss: 0.3145\n"
     ]
    }
   ],
   "source": [
    "# Train the CNN model on Fraud Data\n",
    "train_model(cnn_model_fraud, train_loader_fraud, optimizer_cnn_fraud, criterion)"
   ]
  },
  {
   "cell_type": "code",
   "execution_count": null,
   "metadata": {},
   "outputs": [],
   "source": [
    "# Train the CNN model on Credit Card Data\n",
    "train_model(cnn_model_credit, train_loader_credit, optimizer_cnn_credit, criterion)"
   ]
  },
  {
   "cell_type": "markdown",
   "metadata": {},
   "source": [
    "#### Recurrent Neural Network (RNN)"
   ]
  },
  {
   "cell_type": "code",
   "execution_count": null,
   "metadata": {},
   "outputs": [],
   "source": [
    "class RNNModel(nn.Module):\n",
    "    def __init__(self, input_size):\n",
    "        super(RNNModel, self).__init__()\n",
    "        self.rnn = nn.RNN(input_size, 64, batch_first=True)\n",
    "        self.fc1 = nn.Linear(64, 32)\n",
    "        self.fc2 = nn.Linear(32, 1)\n",
    "\n",
    "    def forward(self, x):\n",
    "        x, _ = self.rnn(x)\n",
    "        x = x[:, -1, :]  # Use the last output of the sequence\n",
    "        x = torch.relu(self.fc1(x))\n",
    "        x = torch.sigmoid(self.fc2(x))\n",
    "        return x\n",
    "\n",
    "# Reshape fraud data for RNN input\n",
    "X_fraud_train_rnn = X_fraud_train_tensor.unsqueeze(-1)\n",
    "X_fraud_test_rnn = X_fraud_test_tensor.unsqueeze(-1)\n",
    "\n",
    "X_credit_train_rnn = X_credit_train_tensor.unsqueeze(-1)\n",
    "X_credit_test_rnn = X_credit_test_tensor.unsqueeze(-1)\n",
    "\n",
    "# Initialize and train RNN model\n",
    "rnn_model_fraud = RNNModel(X_fraud_train_rnn.shape[2])\n",
    "rnn_model_credit= RNNModel(X_credit_train_rnn.shape[2])"
   ]
  },
  {
   "cell_type": "code",
   "execution_count": null,
   "metadata": {},
   "outputs": [],
   "source": [
    "# Train the RNN model on fraud Data\n",
    "train_model(rnn_model_fraud, torch.utils.data.DataLoader(TensorDataset(X_fraud_train_rnn, y_fraud_train_tensor), batch_size=batch_size), optimizer_fraud, criterion)"
   ]
  },
  {
   "cell_type": "code",
   "execution_count": null,
   "metadata": {},
   "outputs": [],
   "source": [
    "# Train the RNN model on Credit Card Data\n",
    "train_model(rnn_model_credit, torch.utils.data.DataLoader(TensorDataset(X_credit_train_rnn, y_credit_train_tensor), batch_size=batch_size), optimizer_fraud, criterion)"
   ]
  },
  {
   "cell_type": "markdown",
   "metadata": {},
   "source": [
    "#### Long short-term memory Model"
   ]
  },
  {
   "cell_type": "code",
   "execution_count": null,
   "metadata": {},
   "outputs": [],
   "source": [
    "class LSTMModel(nn.Module):\n",
    "    def __init__(self, input_size):\n",
    "        super(LSTMModel, self).__init__()\n",
    "        self.lstm = nn.LSTM(input_size, 64, batch_first=True)\n",
    "        self.fc1 = nn.Linear(64, 32)\n",
    "        self.fc2 = nn.Linear(32, 1)\n",
    "\n",
    "    def forward(self, x):\n",
    "        x, _ = self.lstm(x)\n",
    "        x = x[:, -1, :]  # Use the last output of the sequence\n",
    "        x = torch.relu(self.fc1(x))\n",
    "        x = torch.sigmoid(self.fc2(x))\n",
    "        return x\n",
    "\n",
    "# Initialize and train LSTM model\n",
    "lstm_model_fraud = LSTMModel(X_fraud_train_rnn.shape[2])\n",
    "lstm_model_credit = LSTMModel(X_credit_train_rnn.shape[2])\n"
   ]
  },
  {
   "cell_type": "code",
   "execution_count": null,
   "metadata": {},
   "outputs": [],
   "source": [
    "# # Train the LSTM model on fraud data\n",
    "train_model(lstm_model_fraud, torch.utils.data.DataLoader(TensorDataset(X_fraud_train_rnn, y_fraud_train_tensor), batch_size=batch_size), optimizer_fraud, criterion)"
   ]
  },
  {
   "cell_type": "code",
   "execution_count": null,
   "metadata": {},
   "outputs": [],
   "source": [
    "# Train the LSTM model on Credit Card Data\n",
    "train_model(lstm_model_credit, torch.utils.data.DataLoader(TensorDataset(X_credit_train_rnn, y_credit_train_tensor), batch_size=batch_size), optimizer_fraud, criterion)"
   ]
  },
  {
   "cell_type": "markdown",
   "metadata": {},
   "source": [
    "## 3. model evaluation"
   ]
  },
  {
   "cell_type": "code",
   "execution_count": null,
   "metadata": {},
   "outputs": [],
   "source": [
    "\n",
    "\n",
    "def evaluate_model(model, test_loader):\n",
    "    model.eval()  # Set to evaluation mode\n",
    "    all_preds = []\n",
    "    all_labels = []\n",
    "    with torch.no_grad():\n",
    "        for X_batch, y_batch in test_loader:\n",
    "            y_pred = model(X_batch).squeeze()\n",
    "            preds = (y_pred > 0.5).float()  # Convert probabilities to 0/1\n",
    "            all_preds.extend(preds.numpy())\n",
    "            all_labels.extend(y_batch.numpy())\n",
    "    \n",
    "    accuracy = accuracy_score(all_labels, all_preds)\n",
    "    print(f'Accuracy: {accuracy:.4f}')\n",
    "\n",
    "# Evaluate models\n",
    "evaluate_model(mlp_model_fraud, test_loader_fraud)\n",
    "evaluate_model(mlp_model_credit, test_loader_credit)\n",
    "evaluate_model(cnn_model_fraud, test_loader_fraud)\n",
    "evaluate_model(cnn_model_credit, test_loader_credit)\n",
    "evaluate_model(rnn_model_fraud, torch.utils.data.DataLoader(TensorDataset(X_fraud_test_rnn, y_fraud_test_tensor), batch_size=batch_size))\n",
    "evaluate_model(rnn_model_credit, torch.utils.data.DataLoader(TensorDataset(X_credit_test_rnn, y_credit_test_tensor), batch_size=batch_size))\n",
    "evaluate_model(lstm_model_fraud, torch.utils.data.DataLoader(TensorDataset(X_fraud_test_rnn, y_fraud_test_tensor), batch_size=batch_size))\n",
    "evaluate_model(lstm_model_credit, torch.utils.data.DataLoader(TensorDataset(X_credit_test_rnn, y_credit_test_tensor), batch_size=batch_size))\n"
   ]
  },
  {
   "cell_type": "markdown",
   "metadata": {},
   "source": [
    "## 4. MLOps with MLflow"
   ]
  },
  {
   "cell_type": "code",
   "execution_count": null,
   "metadata": {},
   "outputs": [],
   "source": [
    "mlflow.start_run()\n",
    "# Train and log models\n",
    "mlflow.pytorch.log_model(mlp_model_fraud, \"MLP_Fraud\")\n",
    "mlflow.pytorch.log_model(cnn_model_fraud, \"CNN_Fraud\")\n",
    "mlflow.pytorch.log_model(rnn_model_fraud, \"RNN_Fraud\")\n",
    "mlflow.pytorch.log_model(lstm_model_fraud, \"LSTM_Fraud\")\n",
    "\n",
    "mlflow.pytorch.log_model(mlp_model_credit, \"MLP_credit\")\n",
    "mlflow.pytorch.log_model(cnn_model_credit, \"CNN_credit\")\n",
    "mlflow.pytorch.log_model(rnn_model_credit, \"RNN_credit\")\n",
    "mlflow.pytorch.log_model(lstm_model_credit, \"LSTM_credit\")\n",
    "\n",
    "mlflow.end_run()\n"
   ]
  }
 ],
 "metadata": {
  "kernelspec": {
   "display_name": "jojo",
   "language": "python",
   "name": "python3"
  },
  "language_info": {
   "codemirror_mode": {
    "name": "ipython",
    "version": 3
   },
   "file_extension": ".py",
   "mimetype": "text/x-python",
   "name": "python",
   "nbconvert_exporter": "python",
   "pygments_lexer": "ipython3",
   "version": "3.9.20"
  }
 },
 "nbformat": 4,
 "nbformat_minor": 2
}
